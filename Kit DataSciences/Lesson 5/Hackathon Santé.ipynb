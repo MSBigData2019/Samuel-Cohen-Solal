{
 "cells": [
  {
   "cell_type": "code",
   "execution_count": null,
   "metadata": {},
   "outputs": [],
   "source": [
    "%matplotlib notebook\n",
    "import warnings\n",
    "warnings.filterwarnings('ignore')\n",
    "import pandas as pd\n",
    "import numpy as np\n",
    "import re\n",
    "import matplotlib.pyplot as plt\n",
    "import seaborn as sns"
   ]
  },
  {
   "cell_type": "code",
   "execution_count": null,
   "metadata": {},
   "outputs": [],
   "source": [
    "file = 'Honoraires_totaux_des_professionnels_de_sante_par_departement_en_2016.xls'\n",
    "df_med = pd.read_excel(file, sheet_name='Spécialistes')\n",
    "columns = ['Spécialistes', 'DEPARTEMENT', 'EFFECTIFS', 'HONORAIRES SANS DEPASSEMENT (Euros)', 'DEPASSEMENTS (Euros)']\n",
    "df_med = df_med[columns]\n",
    "df_med.head()"
   ]
  },
  {
   "cell_type": "code",
   "execution_count": null,
   "metadata": {},
   "outputs": [],
   "source": [
    "file = 'estim-pop-dep-sexe-gca-1975-2018.xls'\n",
    "df_pop = pd.read_excel(file, sheet_name='2016', skiprows=4)\n",
    "columns = ['Unnamed: 0', 'Unnamed: 1', 'Total','20 à 39 ans.2','40 à 59 ans.1']\n",
    "df_pop = df_pop[columns]\n",
    "df_pop.head()"
   ]
  },
  {
   "cell_type": "code",
   "execution_count": null,
   "metadata": {},
   "outputs": [],
   "source": [
    "file = 'estim-pop-dep-sexe-aq-1975-2018.xls'\n",
    "df_pop_age = pd.read_excel(file, sheet_name='2016', skiprows=4)\n",
    "df_pop_age_transf = df_pop_age.copy()\n",
    "df_pop_age_transf = df_pop_age_transf.rename(index=str, columns={\"Unnamed: 0\": \"DEPARTEMENT_NUM\", \"Unnamed: 1\": \"DEPARTEMENT_NOM\",\"0 à 4 ans\": \"0-4\",\"65 à 69 ans\": \"65-69\",\"70 à 74 ans\": \"70-74\",\"75 à 79 ans\": \"75-79\",\"80 à 84 ans\": \"80-84\",\"85 à 89 ans\": \"85-89\",\"90 à 94 ans\": \"90-94\",\"95 ans et plus\":\"95-\"})\n",
    "df_pop_age_transf.head()"
   ]
  },
  {
   "cell_type": "code",
   "execution_count": null,
   "metadata": {},
   "outputs": [],
   "source": [
    "df_med_transf = df_med.rename(index=str, columns={\"Spécialistes\": \"SPECIALISTES\", \"HONORAIRES SANS DEPASSEMENT (Euros)\": \"HONORAIRES\", \"DEPASSEMENTS (Euros)\": \"DEPASSEMENTS\"})\n",
    "# Purge empty values\n",
    "df_med_transf = df_med_transf.loc[df_med_transf['DEPASSEMENTS'] != 'nc']\n",
    "df_med_transf = df_med_transf.loc[df_med_transf['HONORAIRES'] != 'nc']\n",
    "df_med_transf = df_med_transf.loc[df_med_transf['EFFECTIFS'] != 0]\n",
    "# Take only departments which are starting with digits\n",
    "filter = df_med_transf['DEPARTEMENT'].str.contains(r'[\\d]')\n",
    "df_med_transf = df_med_transf[filter]\n",
    "filter = df_med_transf['SPECIALISTES'].str.contains(r'TOTAL(.*)')\n",
    "df_med_transf = df_med_transf[~filter]\n",
    "# Format Paris\n",
    "df_med_transf['DEPARTEMENT'] = df_med_transf['DEPARTEMENT'].str.replace(r'\\(.*\\)','').map(lambda x: x.strip())\n",
    "# Remove digits\n",
    "df_med_transf['SPECIALISTES'] = df_med_transf['SPECIALISTES'].str.replace(r'\\d+', '').str.replace(r'^[\\s]', '').str.replace(r'[^\\w\\s]', '').map(lambda x: x.strip())\n",
    "# Cast to float\n",
    "df_med_transf['DEPASSEMENTS'] = df_med_transf['DEPASSEMENTS'].astype(str).astype(float)\n",
    "df_med_transf['HONORAIRES'] = df_med_transf['HONORAIRES'].astype(str).astype(float)\n",
    "# Sort by department and depassement\n",
    "df_med_transf = df_med_transf.sort_values(by=['DEPARTEMENT', 'DEPASSEMENTS'],  ascending=[True, False])\n",
    "df_med_transf.head()\n"
   ]
  },
  {
   "cell_type": "code",
   "execution_count": null,
   "metadata": {},
   "outputs": [],
   "source": [
    "df_pop_transf = df_pop.rename(index=str, columns={\"Unnamed: 0\": \"DEPARTEMENT_NUM\", \"Unnamed: 1\": \"DEPARTEMENT_NOM\",\"Total\": \"POPULATION\",\"20 à 39 ans.2\": \"femmes_20-39\",\"40 à 59 ans.1\": \"hommes_40-59\"})\n",
    "df_pop_transf['DEPARTEMENT'] = df_pop_transf['DEPARTEMENT_NUM'].astype(str) + '- ' + df_pop_transf['DEPARTEMENT_NOM'].astype(str)\n",
    "df_pop_transf.head()"
   ]
  },
  {
   "cell_type": "code",
   "execution_count": null,
   "metadata": {},
   "outputs": [],
   "source": [
    "df_pop_age_transf['DEPARTEMENT'] = df_pop_age_transf['DEPARTEMENT_NUM'].astype(str) + '- ' + df_pop_age_transf['DEPARTEMENT_NOM'].astype(str)\n",
    "df_pop_age_transf.head()"
   ]
  },
  {
   "cell_type": "code",
   "execution_count": null,
   "metadata": {},
   "outputs": [],
   "source": [
    "df_med_transf = df_med_transf.merge(df_pop_transf, on='DEPARTEMENT')\n",
    "df_med_transf = df_med_transf.drop(columns=['DEPARTEMENT_NUM', 'DEPARTEMENT_NOM'])\n",
    "# Categorise SPECIALISTES\n",
    "df_med_transf = df_med_transf.assign(ID_SPECIALITE=(df_med_transf['SPECIALISTES']).astype('category').cat.codes)\n",
    "# Create new columns for DEPASSEMENTS/DEPASSEMENTS + HONORAIRES and by EFFECTIFS \n",
    "df_med_transf['RATIO_DEPASSEMENTS'] = df_med_transf['DEPASSEMENTS'] / (df_med_transf['DEPASSEMENTS'] + df_med_transf['HONORAIRES'])\n",
    "df_med_transf['RATIO_DEPASSEMENTS_EFFECTIFS'] = df_med_transf['RATIO_DEPASSEMENTS'] / df_med_transf['EFFECTIFS']\n",
    "col = ['DEPARTEMENT','SPECIALISTES','ID_SPECIALITE', 'EFFECTIFS', 'RATIO_DEPASSEMENTS_EFFECTIFS','POPULATION','femmes_20-39']\n",
    "df_med_transf = df_med_transf[col]\n",
    "df_med_transf.head()"
   ]
  },
  {
   "cell_type": "code",
   "execution_count": null,
   "metadata": {},
   "outputs": [],
   "source": [
    "df_pop_age_transf = df_pop_age_transf.merge(df_med_transf, on='DEPARTEMENT')\n",
    "col = ['DEPARTEMENT','ID_SPECIALITE', 'EFFECTIFS','femmes_20-39']\n",
    "df_pop_age_transf = df_pop_age_transf[col]\n",
    "df_pop_age_transf.head()"
   ]
  },
  {
   "cell_type": "code",
   "execution_count": null,
   "metadata": {},
   "outputs": [],
   "source": [
    "col = ['RATIO_DEPASSEMENTS_EFFECTIFS','EFFECTIFS','POPULATION']\n",
    "\n",
    "grid = sns.pairplot(df_med_transf[col], size=4)\n",
    "grid = grid.map_upper(plt.scatter)\n",
    "grid = grid.map_diag(plt.hist, bins = 10, edgecolor = 'k')\n",
    "grid = grid.map_lower(plt.scatter)"
   ]
  }
 ],
 "metadata": {
  "kernelspec": {
   "display_name": "Python 3",
   "language": "python",
   "name": "python3"
  },
  "language_info": {
   "codemirror_mode": {
    "name": "ipython",
    "version": 3
   },
   "file_extension": ".py",
   "mimetype": "text/x-python",
   "name": "python",
   "nbconvert_exporter": "python",
   "pygments_lexer": "ipython3",
   "version": "3.7.0"
  }
 },
 "nbformat": 4,
 "nbformat_minor": 2
}
