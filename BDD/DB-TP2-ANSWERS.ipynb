{
 "cells": [
  {
   "cell_type": "markdown",
   "metadata": {},
   "source": [
    "# TP2 - DB Normalization and Querying\n",
    "\n",
    "The objectives of this TP are:\n",
    "1. Apply normalization 1NF -> 2NF -> 3NF\n",
    "2. Perform SQL queries on the normalized database\n",
    "\n",
    "In this TP, we will use a database **`wine.db`** (available in the course's website) containing wine information related to 'production' and 'sales'. \n",
    "\n",
    "> Production <---> Wine <---> Sales\n",
    "\n",
    "\n",
    "---\n",
    "\n",
    "### Working with db files in Jupyter\n",
    "- Python provides an interface for SQLite through the *sqlite3* module\n",
    "- The **`%%sql`** magic builds upon it (and other tools) to enable the usage of SQL commands within a Jupyter Notebook as in common SQL clients.\n",
    "- Before proceeding, make sure that **`wine.db`** is in the same path as this notebook.\n",
    "  - If **`wine.db`** is not in the same path, an empty **`wine.db`** file will be created, resulting in errors in later steps of the TP.\n",
    "- The SQLite module in Python commits transactions automatically, this means that any change in the DB is immediately written to the file, e.g. creating/deleting tables.\n",
    "  -  For this reason, it is recommended to have a backup of **`wine.db`** as it is provided in the course's website.\n",
    "\n",
    "---"
   ]
  },
  {
   "cell_type": "markdown",
   "metadata": {},
   "source": [
    "**`wine.db`** contains the following unnormalized tables:\n",
    "\n",
    "<center>**Master1**</center>\n",
    "\n",
    "|*Attribute*|         *Description*          |\n",
    "| -------   |--------------------------------|\n",
    "| NV        | Wine number                    |\n",
    "| CRU       | Vineyard or group of vineyards |\n",
    "| DEGRE     | Alcohol content                |\n",
    "| MILL      | Vintage year                   |\n",
    "| QTE       | Number of bottles harvested    |\n",
    "| NP        | Producer number                |\n",
    "| NOM       | Producer's last name           |\n",
    "| PRENOM    | Producer's first name          |\n",
    "| REGION    | Production region              |\n",
    "\n",
    "From wikipedia:\n",
    "\n",
    "__Cru__: Often used to indicate a specifically named and legally defined vineyard or ensemble of vineyards and the vines \"which grow on [such] a reputed terroir; by extension of good quality.\" The term is also used to refer to the wine produced from such vines.\n",
    "\n",
    "\n",
    "<center>**Master2**</center>\n",
    "\n",
    "|*Attribute*|                         *Description*                  |\n",
    "| -------   |--------------------------------------------------------|\n",
    "| NV        | Wine number                                            |\n",
    "| CRU       | Vineyard or group of vineyards                         |\n",
    "| DEGRE     | Alcohol content                                        |\n",
    "| MILL      | Vintage year                                           |\n",
    "| DATES     | Buying date                                            |\n",
    "| LIEU      | Place where the wine was sold                          |\n",
    "| QTE       | Number of bottles bought                               |\n",
    "| NB        | Client (buveur) number                                 |\n",
    "| NOM       | Client's last name                                     |\n",
    "| PRENOM    | Client's first name                                    |\n",
    "| TYPE      | Type of client by volume of purchases                  |\n",
    "| REGION    | Administrative Region (different to production region) |\n"
   ]
  },
  {
   "cell_type": "code",
   "execution_count": 2,
   "metadata": {
    "collapsed": true
   },
   "outputs": [],
   "source": [
    "import sqlite3    # Python interface for SQLite databases"
   ]
  },
  {
   "cell_type": "code",
   "execution_count": 3,
   "metadata": {
    "collapsed": true
   },
   "outputs": [],
   "source": [
    "def printSchema(connection):\n",
    "    # Function to print the DB schema\n",
    "    # Source: http://stackoverflow.com/a/35092773/4765776\n",
    "    for (tableName,) in connection.execute(\n",
    "        \"\"\"\n",
    "        select NAME from SQLITE_MASTER where TYPE='table' order by NAME;\n",
    "        \"\"\"\n",
    "    ):\n",
    "        print(\"{}:\".format(tableName))\n",
    "        for (\n",
    "            columnID, columnName, columnType,\n",
    "            columnNotNull, columnDefault, columnPK,\n",
    "        ) in connection.execute(\"pragma table_info('{}');\".format(tableName)):\n",
    "            print(\"  {id}: {name}({type}){null}{default}{pk}\".format(\n",
    "                id=columnID,\n",
    "                name=columnName,\n",
    "                type=columnType,\n",
    "                null=\" not null\" if columnNotNull else \"\",\n",
    "                default=\" [{}]\".format(columnDefault) if columnDefault else \"\",\n",
    "                pk=\" *{}\".format(columnPK) if columnPK else \"\",\n",
    "            ))"
   ]
  },
  {
   "cell_type": "code",
   "execution_count": 4,
   "metadata": {},
   "outputs": [
    {
     "name": "stdout",
     "output_type": "stream",
     "text": [
      "Database schema:\n",
      "MASTER1:\n",
      "  0: NV(NUM)\n",
      "  1: CRU(TEXT)\n",
      "  2: DEGRE(NUM)\n",
      "  3: MILL(NUM)\n",
      "  4: QTE(NUM)\n",
      "  5: NP(NUM)\n",
      "  6: NOM(TEXT)\n",
      "  7: PRENOM(TEXT)\n",
      "  8: REGION(TEXT)\n",
      "MASTER2:\n",
      "  0: NV(NUM)\n",
      "  1: CRU(TEXT)\n",
      "  2: DEGRE(NUM)\n",
      "  3: MILL(NUM)\n",
      "  4: DATES(DATE)\n",
      "  5: LIEU(TEXT)\n",
      "  6: QTE(NUM)\n",
      "  7: NB(NUM)\n",
      "  8: NOM(TEXT)\n",
      "  9: PRENOM(TEXT)\n",
      "  10: TYPE(TEXT)\n",
      "  11: REGION(TEXT)\n",
      "client:\n",
      "  0: NB(NUM)\n",
      "  1: NOM(TEXT)\n",
      "  2: PRENOM(TEXT)\n",
      "  3: TYPE(TEXT)\n",
      "  4: REGION(TEXT)\n",
      "producer:\n",
      "  0: NP(NUM)\n",
      "  1: NOM(TEXT)\n",
      "  2: PRENOM(TEXT)\n",
      "  3: REGION(TEXT)\n",
      "production:\n",
      "  0: NV(NUM)\n",
      "  1: NP(NUM)\n",
      "  2: QTE(NUM)\n",
      "sale:\n",
      "  0: NB(NUM)\n",
      "  1: NV(NUM)\n",
      "  2: DATES(NUM)\n",
      "  3: LIEU(TEXT)\n",
      "  4: QTE(NUM)\n",
      "seller:\n",
      "  0: NP(NUM)\n",
      "  1: NOM(TEXT)\n",
      "  2: PRENOM(TEXT)\n",
      "  3: REGION(TEXT)\n",
      "wine:\n",
      "  0: NV(NUM)\n",
      "  1: CRU(TEXT)\n",
      "  2: DEGRE(NUM)\n",
      "  3: MILL(NUM)\n"
     ]
    }
   ],
   "source": [
    "conn = sqlite3.connect('wine.db')\n",
    "c = conn.cursor()\n",
    "print(\"Database schema:\")\n",
    "printSchema(conn)           # An usefull way to viualize the content of the database"
   ]
  },
  {
   "cell_type": "markdown",
   "metadata": {},
   "source": [
    "From this point we will use __%%sql__ magic"
   ]
  },
  {
   "cell_type": "code",
   "execution_count": 5,
   "metadata": {},
   "outputs": [
    {
     "data": {
      "text/plain": [
       "'Connected: @wine.db'"
      ]
     },
     "execution_count": 5,
     "metadata": {},
     "output_type": "execute_result"
    }
   ],
   "source": [
    "%load_ext sql\n",
    "%sql sqlite:///wine.db"
   ]
  },
  {
   "cell_type": "markdown",
   "metadata": {},
   "source": [
    "# PART I: Database normalization"
   ]
  },
  {
   "cell_type": "markdown",
   "metadata": {},
   "source": [
    "The first task on this TP is the normalization of the wine data. In its current state both tables **Master1** and **Master2** are in the First Normal Form (1NF).\n",
    "\n",
    "By inspecting the content of these tables we can see that multiple tuples have NULL values."
   ]
  },
  {
   "cell_type": "code",
   "execution_count": 6,
   "metadata": {},
   "outputs": [
    {
     "name": "stdout",
     "output_type": "stream",
     "text": [
      " * sqlite:///wine.db\n",
      "Done.\n"
     ]
    },
    {
     "data": {
      "text/html": [
       "<table>\n",
       "    <tr>\n",
       "        <th>NV</th>\n",
       "        <th>CRU</th>\n",
       "        <th>DEGRE</th>\n",
       "        <th>MILL</th>\n",
       "        <th>QTE</th>\n",
       "        <th>NP</th>\n",
       "        <th>NOM</th>\n",
       "        <th>PRENOM</th>\n",
       "        <th>REGION</th>\n",
       "    </tr>\n",
       "    <tr>\n",
       "        <td>1</td>\n",
       "        <td>Mercurey</td>\n",
       "        <td>11.5</td>\n",
       "        <td>1980</td>\n",
       "        <td>300</td>\n",
       "        <td>1</td>\n",
       "        <td>Bohn</td>\n",
       "        <td>Rene</td>\n",
       "        <td>Alsace</td>\n",
       "    </tr>\n",
       "    <tr>\n",
       "        <td>1</td>\n",
       "        <td>Mercurey</td>\n",
       "        <td>11.5</td>\n",
       "        <td>1980</td>\n",
       "        <td>1</td>\n",
       "        <td>73</td>\n",
       "        <td>Bourguignon</td>\n",
       "        <td>Emile</td>\n",
       "        <td>Jura</td>\n",
       "    </tr>\n",
       "    <tr>\n",
       "        <td>2</td>\n",
       "        <td>Julienas</td>\n",
       "        <td>11.3</td>\n",
       "        <td>1974</td>\n",
       "        <td>100</td>\n",
       "        <td>5</td>\n",
       "        <td>Joudeat</td>\n",
       "        <td>Lucien</td>\n",
       "        <td>Bourgogne</td>\n",
       "    </tr>\n",
       "    <tr>\n",
       "        <td>3</td>\n",
       "        <td>Savigny les Beaunes</td>\n",
       "        <td>12.1</td>\n",
       "        <td>1978</td>\n",
       "        <td>400</td>\n",
       "        <td>1</td>\n",
       "        <td>Bohn</td>\n",
       "        <td>Rene</td>\n",
       "        <td>Alsace</td>\n",
       "    </tr>\n",
       "    <tr>\n",
       "        <td>4</td>\n",
       "        <td>Mercurey</td>\n",
       "        <td>10.9</td>\n",
       "        <td>1980</td>\n",
       "        <td>35</td>\n",
       "        <td>10</td>\n",
       "        <td>Fournier</td>\n",
       "        <td>Jean Claude</td>\n",
       "        <td>Bourgogne</td>\n",
       "    </tr>\n",
       "    <tr>\n",
       "        <td>5</td>\n",
       "        <td>Pommard</td>\n",
       "        <td>11.7</td>\n",
       "        <td>1976</td>\n",
       "        <td>46</td>\n",
       "        <td>30</td>\n",
       "        <td>Desbois</td>\n",
       "        <td>Maurice</td>\n",
       "        <td>Bourgogne</td>\n",
       "    </tr>\n",
       "    <tr>\n",
       "        <td>6</td>\n",
       "        <td>Mercurey</td>\n",
       "        <td>11.2</td>\n",
       "        <td>1981</td>\n",
       "        <td>300</td>\n",
       "        <td>42</td>\n",
       "        <td>Juillot</td>\n",
       "        <td>Maurice</td>\n",
       "        <td>Bourgogne</td>\n",
       "    </tr>\n",
       "    <tr>\n",
       "        <td>7</td>\n",
       "        <td>Grands Echezeaux</td>\n",
       "        <td>11.7</td>\n",
       "        <td>1968</td>\n",
       "        <td>60</td>\n",
       "        <td>98</td>\n",
       "        <td>Berard</td>\n",
       "        <td>None</td>\n",
       "        <td>Rhone</td>\n",
       "    </tr>\n",
       "    <tr>\n",
       "        <td>8</td>\n",
       "        <td>Cotes de Beaune Villages</td>\n",
       "        <td>12.3</td>\n",
       "        <td>1975</td>\n",
       "        <td>12</td>\n",
       "        <td>90</td>\n",
       "        <td>Roure</td>\n",
       "        <td>Raymond</td>\n",
       "        <td>Rhone</td>\n",
       "    </tr>\n",
       "    <tr>\n",
       "        <td>9</td>\n",
       "        <td>Chapelle Chambertin</td>\n",
       "        <td>11.9</td>\n",
       "        <td>1973</td>\n",
       "        <td>None</td>\n",
       "        <td>None</td>\n",
       "        <td>None</td>\n",
       "        <td>None</td>\n",
       "        <td>None</td>\n",
       "    </tr>\n",
       "</table>"
      ],
      "text/plain": [
       "[(1, 'Mercurey', 11.5, 1980, 300, 1, 'Bohn', 'Rene', 'Alsace'),\n",
       " (1, 'Mercurey', 11.5, 1980, 1, 73, 'Bourguignon', 'Emile', 'Jura'),\n",
       " (2, 'Julienas', 11.3, 1974, 100, 5, 'Joudeat', 'Lucien', 'Bourgogne'),\n",
       " (3, 'Savigny les Beaunes', 12.1, 1978, 400, 1, 'Bohn', 'Rene', 'Alsace'),\n",
       " (4, 'Mercurey', 10.9, 1980, 35, 10, 'Fournier', 'Jean Claude', 'Bourgogne'),\n",
       " (5, 'Pommard', 11.7, 1976, 46, 30, 'Desbois', 'Maurice', 'Bourgogne'),\n",
       " (6, 'Mercurey', 11.2, 1981, 300, 42, 'Juillot', 'Maurice', 'Bourgogne'),\n",
       " (7, 'Grands Echezeaux', 11.7, 1968, 60, 98, 'Berard', None, 'Rhone'),\n",
       " (8, 'Cotes de Beaune Villages', 12.3, 1975, 12, 90, 'Roure', 'Raymond', 'Rhone'),\n",
       " (9, 'Chapelle Chambertin', 11.9, 1973, None, None, None, None, None)]"
      ]
     },
     "execution_count": 6,
     "metadata": {},
     "output_type": "execute_result"
    }
   ],
   "source": [
    "%%sql SELECT *\n",
    "FROM Master1\n",
    "WHERE NV IS NOT NULL\n",
    "LIMIT 10;"
   ]
  },
  {
   "cell_type": "markdown",
   "metadata": {},
   "source": [
    "* Notice that Jupyter *displays* 'None' instead of 'NULL'. \n",
    "  - This is only to comply with python notation.\n",
    "* To account for NULL values, your SQL queries must test explicitly for 'NULL'.\n",
    "\n",
    "Another problem in **Master1** and **Master2** is data redundancy, for example:"
   ]
  },
  {
   "cell_type": "code",
   "execution_count": 7,
   "metadata": {},
   "outputs": [
    {
     "name": "stdout",
     "output_type": "stream",
     "text": [
      " * sqlite:///wine.db\n",
      "Done.\n"
     ]
    },
    {
     "data": {
      "text/html": [
       "<table>\n",
       "    <tr>\n",
       "        <th>NV</th>\n",
       "        <th>CRU</th>\n",
       "        <th>DEGRE</th>\n",
       "        <th>MILL</th>\n",
       "        <th>QTE</th>\n",
       "        <th>NP</th>\n",
       "        <th>NOM</th>\n",
       "        <th>PRENOM</th>\n",
       "        <th>REGION</th>\n",
       "    </tr>\n",
       "    <tr>\n",
       "        <td>45</td>\n",
       "        <td>Chiroubles</td>\n",
       "        <td>None</td>\n",
       "        <td>1983</td>\n",
       "        <td>90</td>\n",
       "        <td>2</td>\n",
       "        <td>Boxler</td>\n",
       "        <td>Albert</td>\n",
       "        <td>Alsace</td>\n",
       "    </tr>\n",
       "    <tr>\n",
       "        <td>45</td>\n",
       "        <td>Chiroubles</td>\n",
       "        <td>None</td>\n",
       "        <td>1983</td>\n",
       "        <td>912</td>\n",
       "        <td>67</td>\n",
       "        <td>Descombes</td>\n",
       "        <td>Jean Ernest</td>\n",
       "        <td>Beaujolais</td>\n",
       "    </tr>\n",
       "    <tr>\n",
       "        <td>45</td>\n",
       "        <td>Chiroubles</td>\n",
       "        <td>None</td>\n",
       "        <td>1983</td>\n",
       "        <td>98</td>\n",
       "        <td>71</td>\n",
       "        <td>Chalandard</td>\n",
       "        <td>Danile</td>\n",
       "        <td>Jura</td>\n",
       "    </tr>\n",
       "    <tr>\n",
       "        <td>45</td>\n",
       "        <td>Chiroubles</td>\n",
       "        <td>None</td>\n",
       "        <td>1983</td>\n",
       "        <td>540</td>\n",
       "        <td>78</td>\n",
       "        <td>Michlel</td>\n",
       "        <td>Pierre Emile</td>\n",
       "        <td>Jura</td>\n",
       "    </tr>\n",
       "    <tr>\n",
       "        <td>45</td>\n",
       "        <td>Chiroubles</td>\n",
       "        <td>None</td>\n",
       "        <td>1983</td>\n",
       "        <td>450</td>\n",
       "        <td>86</td>\n",
       "        <td>Dumazet</td>\n",
       "        <td>Marc</td>\n",
       "        <td>Rhone</td>\n",
       "    </tr>\n",
       "</table>"
      ],
      "text/plain": [
       "[(45, 'Chiroubles', None, 1983, 90, 2, 'Boxler', 'Albert', 'Alsace'),\n",
       " (45, 'Chiroubles', None, 1983, 912, 67, 'Descombes', 'Jean Ernest', 'Beaujolais'),\n",
       " (45, 'Chiroubles', None, 1983, 98, 71, 'Chalandard', 'Danile', 'Jura'),\n",
       " (45, 'Chiroubles', None, 1983, 540, 78, 'Michlel', 'Pierre Emile', 'Jura'),\n",
       " (45, 'Chiroubles', None, 1983, 450, 86, 'Dumazet', 'Marc', 'Rhone')]"
      ]
     },
     "execution_count": 7,
     "metadata": {},
     "output_type": "execute_result"
    }
   ],
   "source": [
    "%%sql SELECT *\n",
    "FROM Master1\n",
    "WHERE NV = 45;"
   ]
  },
  {
   "cell_type": "markdown",
   "metadata": {},
   "source": [
    "---\n",
    "\n",
    "Additional resource for Normalization:\n",
    "\n",
    "https://www.youtube.com/watch?v=UrYLYV7WSHM\n",
    "\n",
    "---"
   ]
  },
  {
   "cell_type": "markdown",
   "metadata": {},
   "source": [
    "#### Exercise 1.1\n",
    "\n",
    "Convert table **Master1** to the Second Normal Form (2NF) or Third Normal Form (3NF) as applicable.\n",
    "* Explain your answer\n",
    "* List main functional dependencies (not all of them)\n",
    "* Describe the schema of new tables and how they relate\n",
    "  * You can write Tables as above or you can insert images in the notebook.\n",
    "  \n",
    "Remember that **`wine.db`** contains information related to wine 'production' and 'sells'.\n",
    "\n",
    "> Production <---> Wine <---> Sales\n",
    "\n",
    "A good start point is to look for the 'Wine' attributes.\n",
    "\n",
    "**Hint:** Look for redundant information between the master tables."
   ]
  },
  {
   "cell_type": "markdown",
   "metadata": {},
   "source": [
    "> ANSWER:\n",
    "- The Master1 Table contains information about producers, wine and how many bottles where harvest by each producer.\n",
    "To fit the 2NF, 3NF and BCNF. We should make 3 tables for each.\n",
    "- The table Producers will contain (NP, NOM, PRENOM, REGION)\n",
    "- The table Wine will contain (NV, CRU, DEGRE, MILL)\n",
    "- The table Harvest will contain (ID_HARV, NP, NV, QTE)\n",
    "As we can see, NP and NV are the primary keys of Producers and Wine, and are related to the table Harvest. Where they are foreign keys\n",
    "\n",
    "Concerning functional dependencies:\n",
    "In the table Producers we have: NP->{PRENOM, NOM, REGION}<br/>\n",
    "In the table Wine we have: NV -> {CRU, MILL, DEGRE}<br/>\n",
    "In the table Harvest we have: {NV, NP} -> QTE<br/>\n",
    "A good practice could be to set a primary key for the table harvest."
   ]
  },
  {
   "cell_type": "markdown",
   "metadata": {},
   "source": [
    "#### Exercise 1.2\n",
    "\n",
    "Convert table **Master2** to the Second Normal Form (2NF) or Third Normal Form (3NF) as applicable.\n",
    "* Explain your answer\n",
    "* List main functional dependencies (not all of them)\n",
    "* Describe the schema of new tables and how they relate\n",
    "  * You can write Tables as above or you can insert images in the notebook.\n",
    "\n",
    "**Note:** For this part, consider that a wine can be bought in multiple locations and multiple times per day."
   ]
  },
  {
   "cell_type": "markdown",
   "metadata": {},
   "source": [
    "> ANSWER:\n",
    "- The Master2 Table contains information about customer, wine and how many bottles where buyed by each customer.\n",
    "To fit the 2NF, 3NF and BCNF. We should make 3 tables for each.\n",
    "- The table Customer will contain (NB, NOM, PRENOM, TYPE, REGION)\n",
    "- The table Wine will contain (NV, CRU, DEGRE, MILL) (same as the Master1\n",
    "- The table Buy will contain (ID_BUY, NB, NV, QTE, LIEU, DATES)\n",
    "As we can see, NB and NV are the primary keys of Customer and Wine, and are related to the table Buy. Where they are foreign keys\n",
    "\n",
    "Concerning functional dependencies:\n",
    "In the table Customer we have: NB->{PRENOM, NOM, REGION, TYPE}<br/>\n",
    "In the table Wine we have: NV -> {CRU, MILL, DEGRE}<br/>\n",
    "In the table Buy we have: {NB, NV} -> {QTE, LIEU, DATES}<br/>\n",
    "A good practice could be to set a primary key for the table Buy."
   ]
  },
  {
   "cell_type": "markdown",
   "metadata": {},
   "source": [
    "Once you have defined the 2NF or 3NF (as applicable) we need to split the data into new tables.\n",
    "\n",
    "A table can be created from the result of a query.\n",
    "\n",
    "In the following example we will create a new table \"dummy\" to store the different values of alcohol content."
   ]
  },
  {
   "cell_type": "code",
   "execution_count": 8,
   "metadata": {},
   "outputs": [
    {
     "name": "stdout",
     "output_type": "stream",
     "text": [
      " * sqlite:///wine.db\n",
      "Done.\n",
      "Done.\n"
     ]
    },
    {
     "data": {
      "text/plain": [
       "[]"
      ]
     },
     "execution_count": 8,
     "metadata": {},
     "output_type": "execute_result"
    }
   ],
   "source": [
    "%%sql DROP TABLE IF EXISTS dummy;\n",
    "\n",
    "-- Create dummy table\n",
    "CREATE TABLE dummy AS\n",
    "SELECT DISTINCT DEGRE\n",
    "FROM MASTER1;"
   ]
  },
  {
   "cell_type": "code",
   "execution_count": 9,
   "metadata": {},
   "outputs": [
    {
     "name": "stdout",
     "output_type": "stream",
     "text": [
      "\n",
      "Content of the database\n",
      "MASTER1:\n",
      "  0: NV(NUM)\n",
      "  1: CRU(TEXT)\n",
      "  2: DEGRE(NUM)\n",
      "  3: MILL(NUM)\n",
      "  4: QTE(NUM)\n",
      "  5: NP(NUM)\n",
      "  6: NOM(TEXT)\n",
      "  7: PRENOM(TEXT)\n",
      "  8: REGION(TEXT)\n",
      "MASTER2:\n",
      "  0: NV(NUM)\n",
      "  1: CRU(TEXT)\n",
      "  2: DEGRE(NUM)\n",
      "  3: MILL(NUM)\n",
      "  4: DATES(DATE)\n",
      "  5: LIEU(TEXT)\n",
      "  6: QTE(NUM)\n",
      "  7: NB(NUM)\n",
      "  8: NOM(TEXT)\n",
      "  9: PRENOM(TEXT)\n",
      "  10: TYPE(TEXT)\n",
      "  11: REGION(TEXT)\n",
      "client:\n",
      "  0: NB(NUM)\n",
      "  1: NOM(TEXT)\n",
      "  2: PRENOM(TEXT)\n",
      "  3: TYPE(TEXT)\n",
      "  4: REGION(TEXT)\n",
      "dummy:\n",
      "  0: DEGRE(NUM)\n",
      "producer:\n",
      "  0: NP(NUM)\n",
      "  1: NOM(TEXT)\n",
      "  2: PRENOM(TEXT)\n",
      "  3: REGION(TEXT)\n",
      "production:\n",
      "  0: NV(NUM)\n",
      "  1: NP(NUM)\n",
      "  2: QTE(NUM)\n",
      "sale:\n",
      "  0: NB(NUM)\n",
      "  1: NV(NUM)\n",
      "  2: DATES(NUM)\n",
      "  3: LIEU(TEXT)\n",
      "  4: QTE(NUM)\n",
      "seller:\n",
      "  0: NP(NUM)\n",
      "  1: NOM(TEXT)\n",
      "  2: PRENOM(TEXT)\n",
      "  3: REGION(TEXT)\n",
      "wine:\n",
      "  0: NV(NUM)\n",
      "  1: CRU(TEXT)\n",
      "  2: DEGRE(NUM)\n",
      "  3: MILL(NUM)\n"
     ]
    }
   ],
   "source": [
    "print(\"\\nContent of the database\")\n",
    "printSchema(conn)"
   ]
  },
  {
   "cell_type": "code",
   "execution_count": 10,
   "metadata": {},
   "outputs": [
    {
     "name": "stdout",
     "output_type": "stream",
     "text": [
      " * sqlite:///wine.db\n",
      "Done.\n"
     ]
    },
    {
     "data": {
      "text/html": [
       "<table>\n",
       "    <tr>\n",
       "        <th>DEGRE</th>\n",
       "    </tr>\n",
       "    <tr>\n",
       "        <td>None</td>\n",
       "    </tr>\n",
       "    <tr>\n",
       "        <td>11.5</td>\n",
       "    </tr>\n",
       "    <tr>\n",
       "        <td>11.3</td>\n",
       "    </tr>\n",
       "    <tr>\n",
       "        <td>12.1</td>\n",
       "    </tr>\n",
       "    <tr>\n",
       "        <td>10.9</td>\n",
       "    </tr>\n",
       "    <tr>\n",
       "        <td>11.7</td>\n",
       "    </tr>\n",
       "    <tr>\n",
       "        <td>11.2</td>\n",
       "    </tr>\n",
       "    <tr>\n",
       "        <td>12.3</td>\n",
       "    </tr>\n",
       "    <tr>\n",
       "        <td>11.9</td>\n",
       "    </tr>\n",
       "    <tr>\n",
       "        <td>11.8</td>\n",
       "    </tr>\n",
       "    <tr>\n",
       "        <td>10.7</td>\n",
       "    </tr>\n",
       "    <tr>\n",
       "        <td>11.4</td>\n",
       "    </tr>\n",
       "    <tr>\n",
       "        <td>10.5</td>\n",
       "    </tr>\n",
       "    <tr>\n",
       "        <td>11</td>\n",
       "    </tr>\n",
       "    <tr>\n",
       "        <td>11.6</td>\n",
       "    </tr>\n",
       "    <tr>\n",
       "        <td>12</td>\n",
       "    </tr>\n",
       "    <tr>\n",
       "        <td>10</td>\n",
       "    </tr>\n",
       "    <tr>\n",
       "        <td>12.5</td>\n",
       "    </tr>\n",
       "    <tr>\n",
       "        <td>10.8</td>\n",
       "    </tr>\n",
       "    <tr>\n",
       "        <td>14</td>\n",
       "    </tr>\n",
       "    <tr>\n",
       "        <td>11.1</td>\n",
       "    </tr>\n",
       "    <tr>\n",
       "        <td>13</td>\n",
       "    </tr>\n",
       "</table>"
      ],
      "text/plain": [
       "[(None,),\n",
       " (11.5,),\n",
       " (11.3,),\n",
       " (12.1,),\n",
       " (10.9,),\n",
       " (11.7,),\n",
       " (11.2,),\n",
       " (12.3,),\n",
       " (11.9,),\n",
       " (11.8,),\n",
       " (10.7,),\n",
       " (11.4,),\n",
       " (10.5,),\n",
       " (11,),\n",
       " (11.6,),\n",
       " (12,),\n",
       " (10,),\n",
       " (12.5,),\n",
       " (10.8,),\n",
       " (14,),\n",
       " (11.1,),\n",
       " (13,)]"
      ]
     },
     "execution_count": 10,
     "metadata": {},
     "output_type": "execute_result"
    }
   ],
   "source": [
    "%%sql\n",
    "SELECT *\n",
    "FROM dummy;"
   ]
  },
  {
   "cell_type": "markdown",
   "metadata": {},
   "source": [
    "Looking into \"dummy\", we notice that our query includes NULL. This is not allowed if we were to use DEGRE as key for a table.\n",
    "\n",
    "To correct this, we need to change the query to explicitly test for NULL as follows:"
   ]
  },
  {
   "cell_type": "code",
   "execution_count": 11,
   "metadata": {},
   "outputs": [
    {
     "name": "stdout",
     "output_type": "stream",
     "text": [
      " * sqlite:///wine.db\n",
      "Done.\n",
      "Done.\n",
      "Done.\n"
     ]
    },
    {
     "data": {
      "text/html": [
       "<table>\n",
       "    <tr>\n",
       "        <th>DEGRE</th>\n",
       "    </tr>\n",
       "    <tr>\n",
       "        <td>11.5</td>\n",
       "    </tr>\n",
       "    <tr>\n",
       "        <td>11.3</td>\n",
       "    </tr>\n",
       "    <tr>\n",
       "        <td>12.1</td>\n",
       "    </tr>\n",
       "    <tr>\n",
       "        <td>10.9</td>\n",
       "    </tr>\n",
       "    <tr>\n",
       "        <td>11.7</td>\n",
       "    </tr>\n",
       "    <tr>\n",
       "        <td>11.2</td>\n",
       "    </tr>\n",
       "    <tr>\n",
       "        <td>12.3</td>\n",
       "    </tr>\n",
       "    <tr>\n",
       "        <td>11.9</td>\n",
       "    </tr>\n",
       "    <tr>\n",
       "        <td>11.8</td>\n",
       "    </tr>\n",
       "    <tr>\n",
       "        <td>10.7</td>\n",
       "    </tr>\n",
       "    <tr>\n",
       "        <td>11.4</td>\n",
       "    </tr>\n",
       "    <tr>\n",
       "        <td>10.5</td>\n",
       "    </tr>\n",
       "    <tr>\n",
       "        <td>11</td>\n",
       "    </tr>\n",
       "    <tr>\n",
       "        <td>11.6</td>\n",
       "    </tr>\n",
       "    <tr>\n",
       "        <td>12</td>\n",
       "    </tr>\n",
       "    <tr>\n",
       "        <td>10</td>\n",
       "    </tr>\n",
       "    <tr>\n",
       "        <td>12.5</td>\n",
       "    </tr>\n",
       "    <tr>\n",
       "        <td>10.8</td>\n",
       "    </tr>\n",
       "    <tr>\n",
       "        <td>14</td>\n",
       "    </tr>\n",
       "    <tr>\n",
       "        <td>11.1</td>\n",
       "    </tr>\n",
       "    <tr>\n",
       "        <td>13</td>\n",
       "    </tr>\n",
       "</table>"
      ],
      "text/plain": [
       "[(11.5,),\n",
       " (11.3,),\n",
       " (12.1,),\n",
       " (10.9,),\n",
       " (11.7,),\n",
       " (11.2,),\n",
       " (12.3,),\n",
       " (11.9,),\n",
       " (11.8,),\n",
       " (10.7,),\n",
       " (11.4,),\n",
       " (10.5,),\n",
       " (11,),\n",
       " (11.6,),\n",
       " (12,),\n",
       " (10,),\n",
       " (12.5,),\n",
       " (10.8,),\n",
       " (14,),\n",
       " (11.1,),\n",
       " (13,)]"
      ]
     },
     "execution_count": 11,
     "metadata": {},
     "output_type": "execute_result"
    }
   ],
   "source": [
    "%%sql DROP TABLE IF EXISTS dummy;\n",
    "\n",
    "-- Create dummy table\n",
    "CREATE TABLE dummy AS\n",
    "SELECT DISTINCT DEGRE\n",
    "FROM MASTER1\n",
    "WHERE DEGRE IS NOT NULL;\n",
    "\n",
    "SELECT *\n",
    "FROM dummy;"
   ]
  },
  {
   "cell_type": "markdown",
   "metadata": {},
   "source": [
    "Notice that we use `NULL` given that `None` is only used for display."
   ]
  },
  {
   "cell_type": "code",
   "execution_count": 12,
   "metadata": {},
   "outputs": [
    {
     "name": "stdout",
     "output_type": "stream",
     "text": [
      " * sqlite:///wine.db\n",
      "Done.\n"
     ]
    },
    {
     "data": {
      "text/plain": [
       "[]"
      ]
     },
     "execution_count": 12,
     "metadata": {},
     "output_type": "execute_result"
    }
   ],
   "source": [
    "# Remove \"dummy\" table\n",
    "%sql DROP TABLE IF EXISTS dummy;"
   ]
  },
  {
   "cell_type": "markdown",
   "metadata": {},
   "source": [
    "#### Exercise 1.3\n",
    "\n",
    "Create the new tables from Master1:"
   ]
  },
  {
   "cell_type": "code",
   "execution_count": 13,
   "metadata": {},
   "outputs": [
    {
     "name": "stdout",
     "output_type": "stream",
     "text": [
      " * sqlite:///wine.db\n",
      "Done.\n",
      "Done.\n",
      "Done.\n",
      "Done.\n",
      "Done.\n",
      "Done.\n",
      "Done.\n"
     ]
    },
    {
     "data": {
      "text/html": [
       "<table>\n",
       "    <tr>\n",
       "        <th>NV</th>\n",
       "        <th>NP</th>\n",
       "        <th>QTE</th>\n",
       "    </tr>\n",
       "    <tr>\n",
       "        <td>1</td>\n",
       "        <td>1</td>\n",
       "        <td>300</td>\n",
       "    </tr>\n",
       "    <tr>\n",
       "        <td>1</td>\n",
       "        <td>73</td>\n",
       "        <td>1</td>\n",
       "    </tr>\n",
       "    <tr>\n",
       "        <td>2</td>\n",
       "        <td>5</td>\n",
       "        <td>100</td>\n",
       "    </tr>\n",
       "    <tr>\n",
       "        <td>3</td>\n",
       "        <td>1</td>\n",
       "        <td>400</td>\n",
       "    </tr>\n",
       "    <tr>\n",
       "        <td>4</td>\n",
       "        <td>10</td>\n",
       "        <td>35</td>\n",
       "    </tr>\n",
       "    <tr>\n",
       "        <td>5</td>\n",
       "        <td>30</td>\n",
       "        <td>46</td>\n",
       "    </tr>\n",
       "    <tr>\n",
       "        <td>6</td>\n",
       "        <td>42</td>\n",
       "        <td>300</td>\n",
       "    </tr>\n",
       "    <tr>\n",
       "        <td>7</td>\n",
       "        <td>98</td>\n",
       "        <td>60</td>\n",
       "    </tr>\n",
       "    <tr>\n",
       "        <td>8</td>\n",
       "        <td>90</td>\n",
       "        <td>12</td>\n",
       "    </tr>\n",
       "    <tr>\n",
       "        <td>10</td>\n",
       "        <td>98</td>\n",
       "        <td>100</td>\n",
       "    </tr>\n",
       "</table>"
      ],
      "text/plain": [
       "[(1, 1, 300),\n",
       " (1, 73, 1),\n",
       " (2, 5, 100),\n",
       " (3, 1, 400),\n",
       " (4, 10, 35),\n",
       " (5, 30, 46),\n",
       " (6, 42, 300),\n",
       " (7, 98, 60),\n",
       " (8, 90, 12),\n",
       " (10, 98, 100)]"
      ]
     },
     "execution_count": 13,
     "metadata": {},
     "output_type": "execute_result"
    }
   ],
   "source": [
    "%%sql DROP TABLE IF EXISTS wine;\n",
    "      DROP TABLE IF EXISTS producer;\n",
    "      DROP TABLE IF EXISTS production;\n",
    "\n",
    "-- Create wine table\n",
    "CREATE TABLE wine AS\n",
    "SELECT DISTINCT NV,CRU,DEGRE,MILL\n",
    "FROM MASTER1\n",
    "WHERE NV IS NOT NULL;\n",
    "\n",
    "\n",
    "-- Create producer table\n",
    "CREATE TABLE producer AS\n",
    "SELECT DISTINCT NP,NOM,PRENOM,REGION\n",
    "FROM MASTER1\n",
    "WHERE NP IS NOT NULL;\n",
    "\n",
    "\n",
    "-- Create production table\n",
    "CREATE TABLE production AS\n",
    "SELECT DISTINCT NV,NP,QTE\n",
    "FROM MASTER1\n",
    "WHERE NV IS NOT NULL AND NP IS NOT NULL;\n",
    "\n",
    "SELECT *\n",
    "FROM production\n",
    "LIMIT(10);"
   ]
  },
  {
   "cell_type": "markdown",
   "metadata": {},
   "source": [
    "#### Exercise 1.4\n",
    "\n",
    "Create the new tables from Master2:"
   ]
  },
  {
   "cell_type": "code",
   "execution_count": 24,
   "metadata": {},
   "outputs": [
    {
     "name": "stdout",
     "output_type": "stream",
     "text": [
      " * sqlite:///wine.db\n",
      "Done.\n",
      "Done.\n",
      "Done.\n",
      "Done.\n",
      "Done.\n"
     ]
    },
    {
     "data": {
      "text/html": [
       "<table>\n",
       "    <tr>\n",
       "        <th>NB</th>\n",
       "        <th>NV</th>\n",
       "        <th>DATES</th>\n",
       "        <th>LIEU</th>\n",
       "        <th>REGION</th>\n",
       "        <th>QTE</th>\n",
       "    </tr>\n",
       "    <tr>\n",
       "        <td>2</td>\n",
       "        <td>1</td>\n",
       "        <td>1977-11-02</td>\n",
       "        <td>BORDEAUX</td>\n",
       "        <td> NOUVELLE-AQUITAINE</td>\n",
       "        <td>33</td>\n",
       "    </tr>\n",
       "    <tr>\n",
       "        <td>44</td>\n",
       "        <td>1</td>\n",
       "        <td>2015-10-16</td>\n",
       "        <td>PARIS</td>\n",
       "        <td> ÎLE-DE-FRANCE</td>\n",
       "        <td>1</td>\n",
       "    </tr>\n",
       "    <tr>\n",
       "        <td>45</td>\n",
       "        <td>1</td>\n",
       "        <td>1983-12-31</td>\n",
       "        <td>RENNES</td>\n",
       "        <td> BRETAGNE</td>\n",
       "        <td>1</td>\n",
       "    </tr>\n",
       "    <tr>\n",
       "        <td>48</td>\n",
       "        <td>2</td>\n",
       "        <td>1983-12-25</td>\n",
       "        <td>LYON</td>\n",
       "        <td>&nbsp;&nbsp;AUVERGNE-RHÔNE-ALPES</td>\n",
       "        <td>2</td>\n",
       "    </tr>\n",
       "    <tr>\n",
       "        <td>7</td>\n",
       "        <td>3</td>\n",
       "        <td>1978-11-01</td>\n",
       "        <td>NICE</td>\n",
       "        <td> PROVENCE-ALPES-CÔTE D&#x27;AZUR</td>\n",
       "        <td>6</td>\n",
       "    </tr>\n",
       "    <tr>\n",
       "        <td>49</td>\n",
       "        <td>3</td>\n",
       "        <td>1987-12-24</td>\n",
       "        <td>MERCUREY</td>\n",
       "        <td> BOURGOGNE-FRANCHE-COMTÉ</td>\n",
       "        <td>5</td>\n",
       "    </tr>\n",
       "    <tr>\n",
       "        <td>8</td>\n",
       "        <td>4</td>\n",
       "        <td>1982-11-05</td>\n",
       "        <td>TOULOUSE</td>\n",
       "        <td> OCCITANIE</td>\n",
       "        <td>12</td>\n",
       "    </tr>\n",
       "    <tr>\n",
       "        <td>44</td>\n",
       "        <td>4</td>\n",
       "        <td>2015-10-16</td>\n",
       "        <td>PARIS</td>\n",
       "        <td> ÎLE-DE-FRANCE</td>\n",
       "        <td>6</td>\n",
       "    </tr>\n",
       "    <tr>\n",
       "        <td>50</td>\n",
       "        <td>4</td>\n",
       "        <td>1981-06-29</td>\n",
       "        <td>SENS</td>\n",
       "        <td> BOURGOGNE-FRANCHE-COMTÉ</td>\n",
       "        <td>4</td>\n",
       "    </tr>\n",
       "    <tr>\n",
       "        <td>2</td>\n",
       "        <td>5</td>\n",
       "        <td>1984-11-04</td>\n",
       "        <td>MERCUREY</td>\n",
       "        <td> BOURGOGNE-FRANCHE-COMTÉ</td>\n",
       "        <td>50</td>\n",
       "    </tr>\n",
       "</table>"
      ],
      "text/plain": [
       "[(2, 1, '1977-11-02', 'BORDEAUX', ' NOUVELLE-AQUITAINE', 33),\n",
       " (44, 1, '2015-10-16', 'PARIS', ' ÎLE-DE-FRANCE', 1),\n",
       " (45, 1, '1983-12-31', 'RENNES', ' BRETAGNE', 1),\n",
       " (48, 2, '1983-12-25', 'LYON', '  AUVERGNE-RHÔNE-ALPES', 2),\n",
       " (7, 3, '1978-11-01', 'NICE', \" PROVENCE-ALPES-CÔTE D'AZUR\", 6),\n",
       " (49, 3, '1987-12-24', 'MERCUREY', ' BOURGOGNE-FRANCHE-COMTÉ', 5),\n",
       " (8, 4, '1982-11-05', 'TOULOUSE', ' OCCITANIE', 12),\n",
       " (44, 4, '2015-10-16', 'PARIS', ' ÎLE-DE-FRANCE', 6),\n",
       " (50, 4, '1981-06-29', 'SENS', ' BOURGOGNE-FRANCHE-COMTÉ', 4),\n",
       " (2, 5, '1984-11-04', 'MERCUREY', ' BOURGOGNE-FRANCHE-COMTÉ', 50)]"
      ]
     },
     "execution_count": 24,
     "metadata": {},
     "output_type": "execute_result"
    }
   ],
   "source": [
    "%%sql DROP TABLE IF EXISTS client;\n",
    "      DROP TABLE IF EXISTS sale;\n",
    "\n",
    "-- Create client table\n",
    "CREATE TABLE client AS\n",
    "SELECT DISTINCT NB,NOM,PRENOM,TYPE\n",
    "FROM MASTER2\n",
    "WHERE NB IS NOT NULL;\n",
    "\n",
    "\n",
    "-- Create sale table\n",
    "CREATE TABLE sale AS\n",
    "SELECT DISTINCT NB,NV,DATES,LIEU,REGION,QTE\n",
    "FROM MASTER2\n",
    "WHERE NB IS NOT NULL AND NV IS NOT NULL;\n",
    "\n",
    "SELECT *\n",
    "FROM sale\n",
    "LIMIT(10);"
   ]
  },
  {
   "cell_type": "markdown",
   "metadata": {},
   "source": [
    "# PART II: SQL QUERIES\n",
    "\n",
    "In the second part of this TP you will create SQL queries to retrieve information from the database.\n",
    "\n",
    "**Important:**\n",
    "\n",
    "- You MUST use the normalized tables created in previous steps.\n",
    "  - The normalized tables will also be used in TP3.\n",
    "- Do NOT use **Master1** and **Master2** in your queries."
   ]
  },
  {
   "cell_type": "markdown",
   "metadata": {},
   "source": [
    "#### Exercise 2.1\n",
    "\n",
    "What are the different types of clients (buveurs) by volume of purchases?"
   ]
  },
  {
   "cell_type": "code",
   "execution_count": 28,
   "metadata": {},
   "outputs": [
    {
     "name": "stdout",
     "output_type": "stream",
     "text": [
      "MASTER1:\n",
      "  0: NV(NUM)\n",
      "  1: CRU(TEXT)\n",
      "  2: DEGRE(NUM)\n",
      "  3: MILL(NUM)\n",
      "  4: QTE(NUM)\n",
      "  5: NP(NUM)\n",
      "  6: NOM(TEXT)\n",
      "  7: PRENOM(TEXT)\n",
      "  8: REGION(TEXT)\n",
      "MASTER2:\n",
      "  0: NV(NUM)\n",
      "  1: CRU(TEXT)\n",
      "  2: DEGRE(NUM)\n",
      "  3: MILL(NUM)\n",
      "  4: DATES(DATE)\n",
      "  5: LIEU(TEXT)\n",
      "  6: QTE(NUM)\n",
      "  7: NB(NUM)\n",
      "  8: NOM(TEXT)\n",
      "  9: PRENOM(TEXT)\n",
      "  10: TYPE(TEXT)\n",
      "  11: REGION(TEXT)\n",
      "client:\n",
      "  0: NB(NUM)\n",
      "  1: NOM(TEXT)\n",
      "  2: PRENOM(TEXT)\n",
      "  3: TYPE(TEXT)\n",
      "producer:\n",
      "  0: NP(NUM)\n",
      "  1: NOM(TEXT)\n",
      "  2: PRENOM(TEXT)\n",
      "  3: REGION(TEXT)\n",
      "production:\n",
      "  0: NV(NUM)\n",
      "  1: NP(NUM)\n",
      "  2: QTE(NUM)\n",
      "sale:\n",
      "  0: NB(NUM)\n",
      "  1: NV(NUM)\n",
      "  2: DATES(NUM)\n",
      "  3: LIEU(TEXT)\n",
      "  4: REGION(TEXT)\n",
      "  5: QTE(NUM)\n",
      "seller:\n",
      "  0: NP(NUM)\n",
      "  1: NOM(TEXT)\n",
      "  2: PRENOM(TEXT)\n",
      "  3: REGION(TEXT)\n",
      "wine:\n",
      "  0: NV(NUM)\n",
      "  1: CRU(TEXT)\n",
      "  2: DEGRE(NUM)\n",
      "  3: MILL(NUM)\n"
     ]
    }
   ],
   "source": [
    "printSchema(conn)"
   ]
  },
  {
   "cell_type": "code",
   "execution_count": 25,
   "metadata": {},
   "outputs": [
    {
     "name": "stdout",
     "output_type": "stream",
     "text": [
      " * sqlite:///wine.db\n",
      "Done.\n"
     ]
    },
    {
     "data": {
      "text/html": [
       "<table>\n",
       "    <tr>\n",
       "        <th>TYPE</th>\n",
       "    </tr>\n",
       "    <tr>\n",
       "        <td>petit</td>\n",
       "    </tr>\n",
       "    <tr>\n",
       "        <td>moyen</td>\n",
       "    </tr>\n",
       "    <tr>\n",
       "        <td>gros</td>\n",
       "    </tr>\n",
       "</table>"
      ],
      "text/plain": [
       "[('petit',), ('moyen',), ('gros',)]"
      ]
     },
     "execution_count": 25,
     "metadata": {},
     "output_type": "execute_result"
    }
   ],
   "source": [
    "%%sql\n",
    "\n",
    "SELECT DISTINCT TYPE\n",
    "FROM client\n",
    "LIMIT(10);"
   ]
  },
  {
   "cell_type": "markdown",
   "metadata": {},
   "source": [
    "#### Exercise 2.2\n",
    "\n",
    "What regions produce Pommard or Brouilly?"
   ]
  },
  {
   "cell_type": "code",
   "execution_count": 26,
   "metadata": {},
   "outputs": [
    {
     "name": "stdout",
     "output_type": "stream",
     "text": [
      " * sqlite:///wine.db\n",
      "Done.\n"
     ]
    },
    {
     "data": {
      "text/html": [
       "<table>\n",
       "    <tr>\n",
       "        <th>NV</th>\n",
       "        <th>CRU</th>\n",
       "        <th>DEGRE</th>\n",
       "        <th>MILL</th>\n",
       "        <th>NV_1</th>\n",
       "        <th>NP</th>\n",
       "        <th>QTE</th>\n",
       "        <th>NP_1</th>\n",
       "        <th>NOM</th>\n",
       "        <th>PRENOM</th>\n",
       "        <th>REGION</th>\n",
       "    </tr>\n",
       "    <tr>\n",
       "        <td>1</td>\n",
       "        <td>Mercurey</td>\n",
       "        <td>11.5</td>\n",
       "        <td>1980</td>\n",
       "        <td>1</td>\n",
       "        <td>1</td>\n",
       "        <td>300</td>\n",
       "        <td>3</td>\n",
       "        <td>Six</td>\n",
       "        <td>Paul</td>\n",
       "        <td>Alsace</td>\n",
       "    </tr>\n",
       "    <tr>\n",
       "        <td>1</td>\n",
       "        <td>Mercurey</td>\n",
       "        <td>11.5</td>\n",
       "        <td>1980</td>\n",
       "        <td>1</td>\n",
       "        <td>1</td>\n",
       "        <td>300</td>\n",
       "        <td>6</td>\n",
       "        <td>Marmagne</td>\n",
       "        <td>Bernard</td>\n",
       "        <td>Bourgogne</td>\n",
       "    </tr>\n",
       "    <tr>\n",
       "        <td>1</td>\n",
       "        <td>Mercurey</td>\n",
       "        <td>11.5</td>\n",
       "        <td>1980</td>\n",
       "        <td>1</td>\n",
       "        <td>1</td>\n",
       "        <td>300</td>\n",
       "        <td>8</td>\n",
       "        <td>Lioger d&#x27;Harduy</td>\n",
       "        <td>Gabriel</td>\n",
       "        <td>Bourgogne</td>\n",
       "    </tr>\n",
       "    <tr>\n",
       "        <td>1</td>\n",
       "        <td>Mercurey</td>\n",
       "        <td>11.5</td>\n",
       "        <td>1980</td>\n",
       "        <td>1</td>\n",
       "        <td>1</td>\n",
       "        <td>300</td>\n",
       "        <td>16</td>\n",
       "        <td>Barbin</td>\n",
       "        <td>Bernard</td>\n",
       "        <td>Bourgogne</td>\n",
       "    </tr>\n",
       "    <tr>\n",
       "        <td>1</td>\n",
       "        <td>Mercurey</td>\n",
       "        <td>11.5</td>\n",
       "        <td>1980</td>\n",
       "        <td>1</td>\n",
       "        <td>1</td>\n",
       "        <td>300</td>\n",
       "        <td>17</td>\n",
       "        <td>Faiveley</td>\n",
       "        <td>Guy</td>\n",
       "        <td>Bourgogne</td>\n",
       "    </tr>\n",
       "</table>"
      ],
      "text/plain": [
       "[(1, 'Mercurey', 11.5, 1980, 1, 1, 300, 3, 'Six', 'Paul', 'Alsace'),\n",
       " (1, 'Mercurey', 11.5, 1980, 1, 1, 300, 6, 'Marmagne', 'Bernard', 'Bourgogne'),\n",
       " (1, 'Mercurey', 11.5, 1980, 1, 1, 300, 8, \"Lioger d'Harduy\", 'Gabriel', 'Bourgogne'),\n",
       " (1, 'Mercurey', 11.5, 1980, 1, 1, 300, 16, 'Barbin', 'Bernard', 'Bourgogne'),\n",
       " (1, 'Mercurey', 11.5, 1980, 1, 1, 300, 17, 'Faiveley', 'Guy', 'Bourgogne')]"
      ]
     },
     "execution_count": 26,
     "metadata": {},
     "output_type": "execute_result"
    }
   ],
   "source": [
    "%%sql\n",
    "SELECT * \n",
    "FROM wine,production,producer\n",
    "LIMIT(5)"
   ]
  },
  {
   "cell_type": "code",
   "execution_count": 27,
   "metadata": {},
   "outputs": [
    {
     "name": "stdout",
     "output_type": "stream",
     "text": [
      " * sqlite:///wine.db\n",
      "Done.\n"
     ]
    },
    {
     "data": {
      "text/html": [
       "<table>\n",
       "    <tr>\n",
       "        <th>CRU</th>\n",
       "        <th>REGION</th>\n",
       "    </tr>\n",
       "    <tr>\n",
       "        <td>Pommard</td>\n",
       "        <td>Bourgogne</td>\n",
       "    </tr>\n",
       "    <tr>\n",
       "        <td>Pommard</td>\n",
       "        <td>Rhone</td>\n",
       "    </tr>\n",
       "    <tr>\n",
       "        <td>Brouilly</td>\n",
       "        <td>Bourgogne</td>\n",
       "    </tr>\n",
       "</table>"
      ],
      "text/plain": [
       "[('Pommard', 'Bourgogne'), ('Pommard', 'Rhone'), ('Brouilly', 'Bourgogne')]"
      ]
     },
     "execution_count": 27,
     "metadata": {},
     "output_type": "execute_result"
    }
   ],
   "source": [
    "%%sql\n",
    "\n",
    "SELECT CRU,REGION\n",
    "FROM wine \n",
    "JOIN production ON wine.NV=production.NV \n",
    "JOIN producer ON producer.NP= production.NP\n",
    "WHERE CRU ='Pommard' OR CRU ='Brouilly';"
   ]
  },
  {
   "cell_type": "markdown",
   "metadata": {},
   "source": [
    "#### Exercise 2.3\n",
    "\n",
    "What regions produce Pommard and Brouilly?"
   ]
  },
  {
   "cell_type": "code",
   "execution_count": 29,
   "metadata": {},
   "outputs": [
    {
     "name": "stdout",
     "output_type": "stream",
     "text": [
      " * sqlite:///wine.db\n",
      "Done.\n"
     ]
    },
    {
     "data": {
      "text/html": [
       "<table>\n",
       "    <tr>\n",
       "        <th>REGION</th>\n",
       "    </tr>\n",
       "    <tr>\n",
       "        <td>Bourgogne</td>\n",
       "    </tr>\n",
       "</table>"
      ],
      "text/plain": [
       "[('Bourgogne',)]"
      ]
     },
     "execution_count": 29,
     "metadata": {},
     "output_type": "execute_result"
    }
   ],
   "source": [
    "%%sql\n",
    "\n",
    "SELECT producer.REGION \n",
    "FROM producer\n",
    "INNER JOIN production ON producer.NP = production.NP\n",
    "INNER JOIN wine ON production.NV = wine.NV\n",
    "WHERE wine.cru=\"Pommard\" OR wine.cru=\"Brouilly\"\n",
    "GROUP BY producer.REGION HAVING COUNT (*) > 1"
   ]
  },
  {
   "cell_type": "markdown",
   "metadata": {},
   "source": [
    "#### Exercise 2.4\n",
    "\n",
    "Get the number of wines bought by CRU and Millésime"
   ]
  },
  {
   "cell_type": "code",
   "execution_count": 34,
   "metadata": {},
   "outputs": [
    {
     "name": "stdout",
     "output_type": "stream",
     "text": [
      " * sqlite:///wine.db\n",
      "Done.\n"
     ]
    },
    {
     "data": {
      "text/html": [
       "<table>\n",
       "    <tr>\n",
       "        <th>QTE</th>\n",
       "        <th>CRU</th>\n",
       "        <th>MILL</th>\n",
       "    </tr>\n",
       "    <tr>\n",
       "        <td>520</td>\n",
       "        <td>Beaujolais Villages</td>\n",
       "        <td>1979</td>\n",
       "    </tr>\n",
       "    <tr>\n",
       "        <td>130</td>\n",
       "        <td>Beaujolais Villages</td>\n",
       "        <td>1978</td>\n",
       "    </tr>\n",
       "    <tr>\n",
       "        <td>120</td>\n",
       "        <td>Beaujolais Villages</td>\n",
       "        <td>1976</td>\n",
       "    </tr>\n",
       "</table>"
      ],
      "text/plain": [
       "[(520, 'Beaujolais Villages', 1979),\n",
       " (130, 'Beaujolais Villages', 1978),\n",
       " (120, 'Beaujolais Villages', 1976)]"
      ]
     },
     "execution_count": 34,
     "metadata": {},
     "output_type": "execute_result"
    }
   ],
   "source": [
    "%%sql\n",
    "SELECT SUM(sale.QTE) AS QTE, CRU, MILL \n",
    "FROM sale\n",
    "INNER JOIN wine ON wine.NV = sale.NV\n",
    "GROUP BY wine.MILL, wine.CRU \n",
    "ORDER BY QTE DESC\n",
    "LIMIT 3;"
   ]
  },
  {
   "cell_type": "markdown",
   "metadata": {},
   "source": [
    "#### Exercise 2.5\n",
    "\n",
    "Retrieve the wine number (NV) of wines produced by more than three producers"
   ]
  },
  {
   "cell_type": "code",
   "execution_count": 36,
   "metadata": {},
   "outputs": [
    {
     "name": "stdout",
     "output_type": "stream",
     "text": [
      " * sqlite:///wine.db\n",
      "Done.\n"
     ]
    },
    {
     "data": {
      "text/html": [
       "<table>\n",
       "    <tr>\n",
       "        <th>NV</th>\n",
       "        <th>CRU</th>\n",
       "        <th>number_of_producers</th>\n",
       "    </tr>\n",
       "    <tr>\n",
       "        <td>45</td>\n",
       "        <td>Chiroubles</td>\n",
       "        <td>5</td>\n",
       "    </tr>\n",
       "    <tr>\n",
       "        <td>78</td>\n",
       "        <td>Etoile</td>\n",
       "        <td>5</td>\n",
       "    </tr>\n",
       "    <tr>\n",
       "        <td>89</td>\n",
       "        <td>Cotes de Provence</td>\n",
       "        <td>4</td>\n",
       "    </tr>\n",
       "</table>"
      ],
      "text/plain": [
       "[(45, 'Chiroubles', 5), (78, 'Etoile', 5), (89, 'Cotes de Provence', 4)]"
      ]
     },
     "execution_count": 36,
     "metadata": {},
     "output_type": "execute_result"
    }
   ],
   "source": [
    "%%sql\n",
    "SELECT wine.NV, wine.cru, COUNT(producer.NP) AS number_of_producers\n",
    "FROM producer\n",
    "INNER JOIN production ON producer.NP = production.NP\n",
    "INNER JOIN wine ON production.NV = wine.NV\n",
    "GROUP BY production.NV HAVING COUNT (producer.NP) > 3\n",
    "LIMIT 3;"
   ]
  },
  {
   "cell_type": "markdown",
   "metadata": {},
   "source": [
    "#### Exercise 2.6\n",
    "\n",
    "Which producers have not produced any wine?"
   ]
  },
  {
   "cell_type": "code",
   "execution_count": 38,
   "metadata": {
    "scrolled": false
   },
   "outputs": [
    {
     "name": "stdout",
     "output_type": "stream",
     "text": [
      " * sqlite:///wine.db\n",
      "Done.\n"
     ]
    },
    {
     "data": {
      "text/html": [
       "<table>\n",
       "    <tr>\n",
       "        <th>NP</th>\n",
       "        <th>NBP</th>\n",
       "        <th>NOM</th>\n",
       "    </tr>\n",
       "    <tr>\n",
       "        <td>3</td>\n",
       "        <td>None</td>\n",
       "        <td>Six</td>\n",
       "    </tr>\n",
       "    <tr>\n",
       "        <td>6</td>\n",
       "        <td>None</td>\n",
       "        <td>Marmagne</td>\n",
       "    </tr>\n",
       "    <tr>\n",
       "        <td>8</td>\n",
       "        <td>None</td>\n",
       "        <td>Lioger d&#x27;Harduy</td>\n",
       "    </tr>\n",
       "</table>"
      ],
      "text/plain": [
       "[(3, None, 'Six'), (6, None, 'Marmagne'), (8, None, \"Lioger d'Harduy\")]"
      ]
     },
     "execution_count": 38,
     "metadata": {},
     "output_type": "execute_result"
    }
   ],
   "source": [
    "%%sql\n",
    "SELECT NP, NBP, NOM \n",
    "FROM (SELECT DISTINCT producer.NP, producer.NOM, SUM(production.QTE) AS NBP FROM producer\n",
    "LEFT JOIN production on producer.NP = production.NP\n",
    "GROUP BY(producer.NP))\n",
    "WHERE NBP IS NULL\n",
    "LIMIT 3;"
   ]
  },
  {
   "cell_type": "markdown",
   "metadata": {},
   "source": [
    "#### Exercise 2.7\n",
    "\n",
    "What clients (buveurs) have bought at least one wine from 1980?"
   ]
  },
  {
   "cell_type": "code",
   "execution_count": 47,
   "metadata": {},
   "outputs": [
    {
     "name": "stdout",
     "output_type": "stream",
     "text": [
      " * sqlite:///wine.db\n",
      "Done.\n"
     ]
    },
    {
     "data": {
      "text/html": [
       "<table>\n",
       "    <tr>\n",
       "        <th>NB</th>\n",
       "        <th>NOM</th>\n",
       "        <th>PRENOM</th>\n",
       "    </tr>\n",
       "    <tr>\n",
       "        <td>2</td>\n",
       "        <td>Artaud</td>\n",
       "        <td>Antonin</td>\n",
       "    </tr>\n",
       "    <tr>\n",
       "        <td>8</td>\n",
       "        <td>Aragon</td>\n",
       "        <td>Louis</td>\n",
       "    </tr>\n",
       "    <tr>\n",
       "        <td>44</td>\n",
       "        <td>Gide</td>\n",
       "        <td>Andre</td>\n",
       "    </tr>\n",
       "    <tr>\n",
       "        <td>45</td>\n",
       "        <td>Giono</td>\n",
       "        <td>Jean</td>\n",
       "    </tr>\n",
       "    <tr>\n",
       "        <td>50</td>\n",
       "        <td>Lautreamont</td>\n",
       "        <td>None</td>\n",
       "    </tr>\n",
       "    <tr>\n",
       "        <td>61</td>\n",
       "        <td>Mallarme</td>\n",
       "        <td>Stephane</td>\n",
       "    </tr>\n",
       "</table>"
      ],
      "text/plain": [
       "[(2, 'Artaud', 'Antonin'),\n",
       " (8, 'Aragon', 'Louis'),\n",
       " (44, 'Gide', 'Andre'),\n",
       " (45, 'Giono', 'Jean'),\n",
       " (50, 'Lautreamont', None),\n",
       " (61, 'Mallarme', 'Stephane')]"
      ]
     },
     "execution_count": 47,
     "metadata": {},
     "output_type": "execute_result"
    }
   ],
   "source": [
    "%%sql\n",
    "SELECT client.NB,client.NOM, client.PRENOM \n",
    "FROM client\n",
    "INNER JOIN sale on sale.NB=client.NB\n",
    "INNER JOIN wine on wine.NV=sale.NV\n",
    "WHERE wine.MILL=1980\n",
    "GROUP BY client.NB\n",
    "LIMIT 6;"
   ]
  },
  {
   "cell_type": "markdown",
   "metadata": {},
   "source": [
    "#### Exercise 2.8\n",
    "\n",
    "What clients (buveurs) have NOT bought any wine from 1980?"
   ]
  },
  {
   "cell_type": "code",
   "execution_count": 54,
   "metadata": {
    "scrolled": true
   },
   "outputs": [
    {
     "name": "stdout",
     "output_type": "stream",
     "text": [
      " * sqlite:///wine.db\n",
      "Done.\n"
     ]
    },
    {
     "data": {
      "text/html": [
       "<table>\n",
       "    <tr>\n",
       "        <th>NB</th>\n",
       "        <th>NOM</th>\n",
       "        <th>PRENOM</th>\n",
       "    </tr>\n",
       "    <tr>\n",
       "        <td>1</td>\n",
       "        <td>Aristote</td>\n",
       "        <td>None</td>\n",
       "    </tr>\n",
       "    <tr>\n",
       "        <td>3</td>\n",
       "        <td>Aron</td>\n",
       "        <td>Raymond</td>\n",
       "    </tr>\n",
       "    <tr>\n",
       "        <td>4</td>\n",
       "        <td>Apollinaire</td>\n",
       "        <td>Guillaume</td>\n",
       "    </tr>\n",
       "    <tr>\n",
       "        <td>5</td>\n",
       "        <td>Audiberti</td>\n",
       "        <td>Jacques</td>\n",
       "    </tr>\n",
       "    <tr>\n",
       "        <td>6</td>\n",
       "        <td>Arrabal</td>\n",
       "        <td>Fernando</td>\n",
       "    </tr>\n",
       "</table>"
      ],
      "text/plain": [
       "[(1, 'Aristote', None),\n",
       " (3, 'Aron', 'Raymond'),\n",
       " (4, 'Apollinaire', 'Guillaume'),\n",
       " (5, 'Audiberti', 'Jacques'),\n",
       " (6, 'Arrabal', 'Fernando')]"
      ]
     },
     "execution_count": 54,
     "metadata": {},
     "output_type": "execute_result"
    }
   ],
   "source": [
    "%%sql\n",
    "SELECT client.NB,client.NOM, client.PRENOM\n",
    "FROM client\n",
    "WHERE client.NB NOT IN (SELECT client.NB\n",
    "                        FROM client\n",
    "                        INNER JOIN sale on sale.NB=client.NB\n",
    "                        INNER JOIN wine on wine.NV=sale.NV\n",
    "                        WHERE wine.MILL=1980\n",
    "                        GROUP BY client.NB)\n",
    "ORDER BY client.NB\n",
    "LIMIT 5;"
   ]
  },
  {
   "cell_type": "markdown",
   "metadata": {},
   "source": [
    "#### Exercise 2.9\n",
    "\n",
    "What clients (buveurs) have bought ONLY wines from 1980?"
   ]
  },
  {
   "cell_type": "code",
   "execution_count": 65,
   "metadata": {},
   "outputs": [
    {
     "name": "stdout",
     "output_type": "stream",
     "text": [
      " * sqlite:///wine.db\n",
      "Done.\n"
     ]
    },
    {
     "data": {
      "text/html": [
       "<table>\n",
       "    <tr>\n",
       "        <th>NB</th>\n",
       "        <th>NOM</th>\n",
       "        <th>PRENOM</th>\n",
       "    </tr>\n",
       "    <tr>\n",
       "        <td>44</td>\n",
       "        <td>Gide</td>\n",
       "        <td>Andre</td>\n",
       "    </tr>\n",
       "    <tr>\n",
       "        <td>45</td>\n",
       "        <td>Giono</td>\n",
       "        <td>Jean</td>\n",
       "    </tr>\n",
       "    <tr>\n",
       "        <td>50</td>\n",
       "        <td>Lautreamont</td>\n",
       "        <td>None</td>\n",
       "    </tr>\n",
       "</table>"
      ],
      "text/plain": [
       "[(44, 'Gide', 'Andre'), (45, 'Giono', 'Jean'), (50, 'Lautreamont', None)]"
      ]
     },
     "execution_count": 65,
     "metadata": {},
     "output_type": "execute_result"
    }
   ],
   "source": [
    "%%sql\n",
    "SELECT client.NB,client.NOM, client.PRENOM \n",
    "FROM client\n",
    "INNER JOIN sale ON sale.NB=client.NB\n",
    "INNER JOIN wine w ON w.NV=sale.NV\n",
    "GROUP BY NOM, PRENOM\n",
    "EXCEPT\n",
    "SELECT client.NB,client.NOM, client.PRENOM\n",
    "FROM client\n",
    "INNER JOIN sale ON sale.NB=client.NB\n",
    "INNER JOIN wine w ON w.NV=sale.NV\n",
    "WHERE w.MILL!=1980\n",
    "GROUP BY NOM, PRENOM\n",
    "LIMIT 3;"
   ]
  },
  {
   "cell_type": "markdown",
   "metadata": {},
   "source": [
    "#### Exercise 2.10\n",
    "\n",
    "List all wines from 1980"
   ]
  },
  {
   "cell_type": "code",
   "execution_count": 68,
   "metadata": {},
   "outputs": [
    {
     "name": "stdout",
     "output_type": "stream",
     "text": [
      " * sqlite:///wine.db\n",
      "Done.\n"
     ]
    },
    {
     "data": {
      "text/html": [
       "<table>\n",
       "    <tr>\n",
       "        <th>NV</th>\n",
       "        <th>CRU</th>\n",
       "        <th>DEGRE</th>\n",
       "        <th>MILL</th>\n",
       "    </tr>\n",
       "    <tr>\n",
       "        <td>1</td>\n",
       "        <td>Mercurey</td>\n",
       "        <td>11.5</td>\n",
       "        <td>1980</td>\n",
       "    </tr>\n",
       "    <tr>\n",
       "        <td>4</td>\n",
       "        <td>Mercurey</td>\n",
       "        <td>10.9</td>\n",
       "        <td>1980</td>\n",
       "    </tr>\n",
       "    <tr>\n",
       "        <td>16</td>\n",
       "        <td>Meursault</td>\n",
       "        <td>12.1</td>\n",
       "        <td>1980</td>\n",
       "    </tr>\n",
       "</table>"
      ],
      "text/plain": [
       "[(1, 'Mercurey', 11.5, 1980),\n",
       " (4, 'Mercurey', 10.9, 1980),\n",
       " (16, 'Meursault', 12.1, 1980)]"
      ]
     },
     "execution_count": 68,
     "metadata": {},
     "output_type": "execute_result"
    }
   ],
   "source": [
    "%%sql\n",
    "SELECT *\n",
    "FROM wine\n",
    "WHERE MILL=1980\n",
    "ORDER BY NV asc\n",
    "LIMIT 3;"
   ]
  },
  {
   "cell_type": "markdown",
   "metadata": {},
   "source": [
    "#### Exercise 2.11\n",
    "\n",
    "What are the wines from 1980 bought by NB=2?"
   ]
  },
  {
   "cell_type": "code",
   "execution_count": 70,
   "metadata": {},
   "outputs": [
    {
     "name": "stdout",
     "output_type": "stream",
     "text": [
      " * sqlite:///wine.db\n",
      "Done.\n"
     ]
    },
    {
     "data": {
      "text/html": [
       "<table>\n",
       "    <tr>\n",
       "        <th>NV</th>\n",
       "        <th>CRU</th>\n",
       "        <th>DEGRE</th>\n",
       "        <th>MILL</th>\n",
       "        <th>NB</th>\n",
       "        <th>NV_1</th>\n",
       "        <th>DATES</th>\n",
       "        <th>LIEU</th>\n",
       "        <th>REGION</th>\n",
       "        <th>QTE</th>\n",
       "    </tr>\n",
       "    <tr>\n",
       "        <td>1</td>\n",
       "        <td>Mercurey</td>\n",
       "        <td>11.5</td>\n",
       "        <td>1980</td>\n",
       "        <td>2</td>\n",
       "        <td>1</td>\n",
       "        <td>1977-11-02</td>\n",
       "        <td>BORDEAUX</td>\n",
       "        <td> NOUVELLE-AQUITAINE</td>\n",
       "        <td>33</td>\n",
       "    </tr>\n",
       "</table>"
      ],
      "text/plain": [
       "[(1, 'Mercurey', 11.5, 1980, 2, 1, '1977-11-02', 'BORDEAUX', ' NOUVELLE-AQUITAINE', 33)]"
      ]
     },
     "execution_count": 70,
     "metadata": {},
     "output_type": "execute_result"
    }
   ],
   "source": [
    "%%sql\n",
    "SELECT * \n",
    "FROM wine\n",
    "INNER JOIN sale ON wine.NV = sale.NV\n",
    "WHERE MILL=1980 AND sale.NB=2\n",
    "GROUP BY wine.NV;"
   ]
  },
  {
   "cell_type": "markdown",
   "metadata": {},
   "source": [
    "#### Exercise 2.12\n",
    "\n",
    "What clients (buveurs) have bought ALL the wines from 1980?"
   ]
  },
  {
   "cell_type": "code",
   "execution_count": 80,
   "metadata": {},
   "outputs": [
    {
     "name": "stdout",
     "output_type": "stream",
     "text": [
      " * sqlite:///wine.db\n",
      "Done.\n"
     ]
    },
    {
     "data": {
      "text/html": [
       "<table>\n",
       "    <tr>\n",
       "        <th>NB</th>\n",
       "        <th>PRENOM</th>\n",
       "        <th>NOM</th>\n",
       "        <th>Wine_2018</th>\n",
       "    </tr>\n",
       "    <tr>\n",
       "        <td>44</td>\n",
       "        <td>Andre</td>\n",
       "        <td>Gide</td>\n",
       "        <td>18</td>\n",
       "    </tr>\n",
       "</table>"
      ],
      "text/plain": [
       "[(44, 'Andre', 'Gide', 18)]"
      ]
     },
     "execution_count": 80,
     "metadata": {},
     "output_type": "execute_result"
    }
   ],
   "source": [
    "%%sql\n",
    "SELECT client.NB, client.PRENOM, client.NOM, COUNT(wine.NV) AS Wine_2018\n",
    "FROM client\n",
    "INNER JOIN sale ON sale.NB = client.NB\n",
    "INNER JOIN wine ON sale.NV=wine.NV\n",
    "WHERE wine.MILL=1980\n",
    "GROUP BY client.NB HAVING Wine_2018=(SELECT COUNT(wine.NV)\n",
    "                                    FROM wine\n",
    "                                    WHERE wine.MILL=1980)"
   ]
  }
 ],
 "metadata": {
  "anaconda-cloud": {},
  "kernelspec": {
   "display_name": "Python 3",
   "language": "python",
   "name": "python3"
  },
  "language_info": {
   "codemirror_mode": {
    "name": "ipython",
    "version": 3
   },
   "file_extension": ".py",
   "mimetype": "text/x-python",
   "name": "python",
   "nbconvert_exporter": "python",
   "pygments_lexer": "ipython3",
   "version": "3.6.1"
  }
 },
 "nbformat": 4,
 "nbformat_minor": 2
}
